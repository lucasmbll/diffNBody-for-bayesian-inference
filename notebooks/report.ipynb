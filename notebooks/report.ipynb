{
 "cells": [
  {
   "cell_type": "markdown",
   "metadata": {},
   "source": [
    "## N-Body Differentiable PP Solver — Inverse Problem Sampling with HMC/NUTS"
   ]
  },
  {
   "cell_type": "markdown",
   "metadata": {},
   "source": [
    "This pipeline simulates gravitational interactions between particles forming one or two dark matter halos, using physically grounded initial conditions and a symplectic integrator. It is implemented in JAX using the `diffrax` solver and leverages CIC painting for density field output.\n",
    "\n",
    "---\n",
    "\n",
    "## 1. Physical Model\n",
    "\n",
    "### 1.1 Newtonian Gravity with Softening\n",
    "\n",
    "- **Force law:**\n",
    "  $$ \\vec{F}_{ij} = -G \\frac{m_i m_j (\\vec{r}_i - \\vec{r}_j)}{(|\\vec{r}_i - \\vec{r}_j|^2 + \\epsilon^2)^{3/2}}$$\n",
    "- **Softening** avoids divergence at short range.\n",
    "- **Periodic boundary conditions** are implemented using the **minimum-image convention**:\n",
    "  $$\n",
    "  \\Delta \\vec{r}_{ij} \\mapsto \\Delta \\vec{r}_{ij} - L \\cdot \\text{round}\\left(\\frac{\\Delta \\vec{r}_{ij}}{L}\\right)\n",
    "  $$\n",
    "\n",
    "### 1.2 Time Evolution: Leapfrog Integration\n",
    "\n",
    "- Uses the **LeapfrogMidpoint** integrator from `diffrax`, a symplectic method:\n",
    "  - Preserves phase-space volume and total energy better over long times.\n",
    "  - Suitable for Hamiltonian systems like gravitational N-body problems.\n",
    "\n",
    "---\n",
    "\n",
    "## 2. Initial Conditions\n",
    "\n",
    "### 2.1 Gaussian Spatial Distribution\n",
    "\n",
    "- Positions are sampled from a 3D isotropic Gaussian:\n",
    "  $$\n",
    "  \\vec{x}_i \\sim \\mathcal{N}(\\vec{\\mu}, \\sigma^2 I)\n",
    "  $$\n",
    "\n",
    "### 2.2 Velocity Initialization\n",
    "\n",
    "- If `random_vel=True`: adds Gaussian random velocities ($\\sigma_v$).\n",
    "- In all cases: adds **circular velocity** computed from enclosed mass.\n",
    "\n",
    "#### Enclosed Mass for Gaussian Profile\n",
    "\n",
    "- Analytical enclosed mass formula:\n",
    "  $$\n",
    "  M(<r) = M \\left[ \\operatorname{erf}\\left(\\frac{r}{\\sqrt{2}\\sigma}\\right) - \\sqrt{\\frac{2}{\\pi}} \\frac{r}{\\sigma} e^{-r^2 / (2\\sigma^2)} \\right]\n",
    "  $$\n",
    "\n",
    "#### Circular Velocity\n",
    "\n",
    "- Velocity magnitude:\n",
    "  $$\n",
    "  v_c(r) = \\sqrt{\\frac{G M(<r)}{r}}\n",
    "  $$\n",
    "- Direction: orthogonal to radius vector in XY-plane via cross-product with the Z-axis.\n",
    "\n",
    "---\n",
    "\n",
    "## 3. Density Field Output\n",
    "\n",
    "- Uses **CIC (Cloud-in-Cell)** from `jaxpm.painting.cic_paint` to map particles to a 3D grid:\n",
    "  $$\n",
    "  \\rho(\\vec{x}) = \\sum_i W(\\vec{x} - \\vec{x}_i)\n",
    "  $$\n",
    "\n",
    "---\n",
    "\n",
    "## 4. Code Structure\n",
    "\n",
    "| Function | Purpose |\n",
    "|---------|---------|\n",
    "| `pairwise_forces` | Computes gravitational forces with softening and periodic BCs. |\n",
    "| `make_diffrax_ode` | Returns an ODE system for use with `diffrax`. |\n",
    "| `blob_circular_velocity_gaussian` | Computes circular velocity from enclosed mass. |\n",
    "| `gaussian_model` | Runs simulation for one Gaussian halo. |\n",
    "| `gaussian_2blobs` | Runs simulation for two interacting halos. |\n",
    "\n",
    "---\n",
    "\n",
    "## 5. Potential Improvements\n",
    "\n",
    "| Issue | Comment |\n",
    "|-------|---------|\n",
    "| **Mass scaling in force calculation** | Force uses \\( r^{-3} \\) but divides acceleration by `m_part`; ensure consistency. |\n",
    "| **Velocity keys** | Both blobs use same key for velocity → can lead to correlations. Use separate PRNG splits. |\n",
    "| **No bulk motion** | Two-blob model lacks explicit center-of-mass motion; could simulate merging more realistically. |\n",
    "| **Fixed rotation axis** | Circular velocity lies in XY-plane. A general angular momentum initialization may be better. |\n",
    "| **Energy diagnostics** | Tracking total energy would help validate numerical stability. |\n",
    "| **Add cosmological expansion** | Add cosmological expansion (scale factor, comoving coordinates).|\n",
    "| **Track energy** | Track energy, angular momentum over time.|\n",
    "| **Alternative distribution** | Support alternative profiles: NFW, Plummer, Hernquist.|"
   ]
  },
  {
   "cell_type": "markdown",
   "metadata": {},
   "source": [
    "## Inverse problem inference"
   ]
  },
  {
   "cell_type": "markdown",
   "metadata": {
    "vscode": {
     "languageId": "plaintext"
    }
   },
   "source": [
    " We call $f_{t}(\\theta)$  the density field of Dark Matter at time $t$ which can be paramterised by $\\theta$ at initial time. \n",
    "\n",
    " We have a forward model that maps, $f_{0}(\\theta)$ with $f_{t_f}(\\theta)$, by simulating the dynamic of samples of particles from $f_{0}(\\theta)$ between $0$ and $t_f$. \n"
   ]
  },
  {
   "cell_type": "markdown",
   "metadata": {},
   "source": [
    "\n",
    " We then suppose to have only access to the final density field with some gaussian noise : $$\\textbf{data} = f_{t_f}(\\theta) + \\epsilon.$$\n",
    "\n",
    " If our output density field is discretized by some $N$ points $y_i$, this gives for our noised observed data : \n",
    " \n",
    "$$z_i = y_i(\\theta) + \\epsilon_i,\\quad \\epsilon_i \\sim \\mathcal{N}(0, \\sigma^2)$$\n",
    "\n",
    "Then the likelihood for our observations is :\n",
    "\n",
    "$$p(\\mathbf{z} \\mid \\theta) = \\prod_{i=1}^N \\frac{1}{\\sqrt{2\\pi \\sigma^2}} \n",
    "\\exp\\left( - \\frac{1}{2\\sigma^2} (z_i - y_i(\\theta))^2 \\right)$$\n",
    "\n",
    "So finally our log-likelihood for our data is : \n",
    "$$\\log \\mathcal{L}(\\theta) = -\\frac{1}{2\\sigma^2} \n",
    "\\sum_{i=1}^N (y_i - f_i(\\theta))^2 - \n",
    "\\frac{N}{2}\\log(2\\pi \\sigma^2)$$\n"
   ]
  }
 ],
 "metadata": {
  "language_info": {
   "name": "python"
  }
 },
 "nbformat": 4,
 "nbformat_minor": 2
}
