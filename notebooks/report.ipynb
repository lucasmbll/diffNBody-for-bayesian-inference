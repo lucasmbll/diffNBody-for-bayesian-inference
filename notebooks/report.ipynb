{
 "cells": [
  {
   "cell_type": "markdown",
   "metadata": {},
   "source": [
    "## N-Body Differentiable PP Solver — Inverse Problem Sampling with HMC/NUTS"
   ]
  },
  {
   "cell_type": "markdown",
   "metadata": {
    "vscode": {
     "languageId": "plaintext"
    }
   },
   "source": [
    " We call $f_{t}(\\theta)$  the density field of Dark Matter at time $t$ which can be paramterised by $\\theta$ at initial time. \n",
    "\n",
    " We have a forward model that maps, $f_{0}(\\theta)$ with $f_{t_f}(\\theta)$, by simulating the dynamic of samples of particles from $f_{0}(\\theta)$ between $0$ and $t_f$. \n",
    "\n",
    " We then suppose to have only access to the final density field with some gaussian noise : $$\\textbf{data} = f_{t_f}(\\theta) + \\epsilon.$$\n",
    "\n",
    " If our output density field is discretized by some $N$ points $y_i$, this gives for our noised observed data : \n",
    " \n",
    "$$z_i = y_i(\\theta) + \\epsilon_i,\\quad \\epsilon_i \\sim \\mathcal{N}(0, \\sigma^2)$$\n",
    "\n",
    "Then the likelihood for our observations is :\n",
    "\n",
    "$$p(\\mathbf{z} \\mid \\theta) = \\prod_{i=1}^N \\frac{1}{\\sqrt{2\\pi \\sigma^2}} \n",
    "\\exp\\left( - \\frac{1}{2\\sigma^2} (z_i - y_i(\\theta))^2 \\right)$$\n",
    "\n",
    "So finally our log-likelihood for our data is : \n",
    "$$\\log \\mathcal{L}(\\theta) = -\\frac{1}{2\\sigma^2} \n",
    "\\sum_{i=1}^N (y_i - f_i(\\theta))^2 - \n",
    "\\frac{N}{2}\\log(2\\pi \\sigma^2)$$\n"
   ]
  }
 ],
 "metadata": {
  "language_info": {
   "name": "python"
  }
 },
 "nbformat": 4,
 "nbformat_minor": 2
}
